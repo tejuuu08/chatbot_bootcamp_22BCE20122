{
  "nbformat": 4,
  "nbformat_minor": 0,
  "metadata": {
    "colab": {
      "provenance": []
    },
    "kernelspec": {
      "name": "python3",
      "display_name": "Python 3"
    },
    "language_info": {
      "name": "python"
    }
  },
  "cells": [
    {
      "cell_type": "markdown",
      "source": [
        "**Name of the Chatbot:** Types of soil and methods required for crops Chatbot\n",
        "\n",
        "**Student Name:** Gadala Tejaswi\n",
        "\n",
        "**Registration Number:** 22BCE20122\n"
      ],
      "metadata": {
        "id": "UaXzDKnpi_nL"
      }
    },
    {
      "cell_type": "code",
      "source": [
        "print(\"Hello! Welcome to the Types of soil and method required for crops Chatbot.\")\n",
        "name = input(\"Can you share your name please.\")\n",
        "print(\"Greetings\", name, \"!\")\n",
        "print(\"I'm here to assist you today. Feel Free to ask your doubts. I'm here to help you overcome your problems and to help you correct type of soil and method required for your crop\")\n",
        "while True:\n",
        "  requirement = input(\"What type of method do you need?\")\n",
        "  if 'Sand Composition' in requirement:\n",
        "         print(name, \"Take a handful of soil and add water to form a ball. Try to form a ribbon between your fingers.\")\n",
        "         print(\"Result: Sandy Soil: Does not form a ball or ribbon, feels gritty.Silty Soil: Forms a ball, feels smooth, and can form a weak ribbon. Clayey Soil: Forms a ball and a sturdy ribbon, feels sticky.\")\n",
        "  elif  'pH Level' in requirement :\n",
        "         print(name, \" Use a soil pH testing kit. \")\n",
        "         print(\"Result is Acidic Soil (pH < 7): Suitable for acid-loving plants like blueberries. Neutral Soil (pH = 7): Suitable for a wide range of plants. Alkaline Soil (pH > 7): Suitable for plants like lilacs and clematis.\")\n",
        "  elif 'Drainage' in requirement:\n",
        "         print(name , \"Dig a hole, fill it with water, and observe how quickly the water drains.\")\n",
        "         print(\"Result is Well-Draining Soil: Water drains quickly. Poorly-Draining Soil: Water takes a long time to drain.\")\n",
        "  elif 'Nutrient Content' in requirement:\n",
        "         print(name , \"Use a home soil test kit or observe plant nutrient deficiency symptoms.\")\n",
        "         print(\"Result is Nutrient-Rich Soil: Dark and fertile. Nutrient-Poor Soil: Light in color, and plants show signs of nutrient deficiency.\")\n",
        "  elif 'Organic Matter' in requirement:\n",
        "         print(name , \"Assess the amount of organic material by the color and smell.\")\n",
        "         print(\"Result is High Organic Matter: Dark, rich color, and a earthy smell. Low Organic Matter: Light color, less earthy smell.\")\n",
        "  elif  'Moisture Retention' in requirement:\n",
        "         print(name , \"Squeeze a handful of soil. If it holds together, it retains moisture.\")\n",
        "         print(\"Result is Good Moisture Retention: Holds together when squeezed. Poor Moisture Retention: Falls apart easily.\")\n",
        "  elif  'Temperature' in requirement:\n",
        "         print(name , \"Measure soil temperature at different depths.\")\n",
        "         print(\"Result is Cool Soil: Suitable for cool-season crops. Warm Soil: Suitable for warm-season crops.\")\n",
        "  elif  'Compaction' in requirement:\n",
        "         print(name,\"Observe soil structure and perform a soil compaction test.\")\n",
        "         print(\"Result is Well-Structured Soil: Loose, crumbly structure. Compacted Soil: Dense, hard structure.\")\n",
        "  elif  'Salinity' in requirement:\n",
        "         print(name,\"Use a soil salinity test kit.\")\n",
        "         print(\"Result is Low Salinity: Suitable for most plants. High Salinity: Requires salt-tolerant plants.\")\n",
        "  elif  'Cation Exchange Capacity' in requirement:\n",
        "         print(name,\"Requires professional soil testing.\")\n",
        "         print(\"Result is High CEC: Retains more nutrients, suitable for demanding plants. Low CEC: Requires more frequent fertilization.\")\n",
        "  elif  'Water Holding Capacity' in requirement:\n",
        "         print(name,\"Perform a simple jar test to assess soil water-holding capacity.\")\n",
        "         print(\"Result is High Water-Holding Capacity: Retains moisture for a longer time. Low Water-Holding Capacity: Dries out quickly.\")\n",
        "  elif  'Aeration' in requirement:\n",
        "         print(name , \"Observe signs of poor aeration, such as waterlogged soil or root diseases.\")\n",
        "         print(\"Result is Well-Aerated Soil: Allows for proper root development. Poorly-Aerated Soil: May lead to root problems.\")\n",
        "  elif  'Microbial Activity' in requirement:\n",
        "         print(name, \"Assess the presence of earthworms and other soil organisms.\")\n",
        "         print(\"Result is High Microbial Activity: Indicates healthy, fertile soil. Low Microbial Activity: May require organic amendments.\")\n",
        "  elif  'Erosion Risk' in requirement:\n",
        "         print(name,\"Observe signs of soil erosion, such as exposed roots and loss of topsoil.\")\n",
        "         print(\"Result is Low Erosion Risk: Stable soil structure. High Erosion Risk: Requires erosion control measures.\")\n",
        "  elif  'Soil Amendments' in requirement:\n",
        "         print(name, \"Evaluate the need for soil amendments like compost, organic matter, or lime.\")\n",
        "         print(\"Result is Balanced Soil Amendments: Provides necessary nutrients and pH balance. Insufficient Amendments: Requires adjustments for optimal plant growth.\")\n",
        "  elif  'Depth of Soil' in requirement:\n",
        "         print(name,\"Dig a hole to check the depth of the topsoil.\")\n",
        "         print(\"Result is Shallow Soil: Suitable for shallow-rooted plants. Deep Soil: Suitable for deep-rooted plants.\")\n",
        "  elif  'Rock Content' in requirement:\n",
        "         print(name, \"Observe the presence of rocks in the soil.\")\n",
        "         print(\"Result is Rocky Soil: May require amendments for better plant growth.\")\n",
        "  elif  'Soil Microorganisms' in requirement:\n",
        "         print(name , \"Assess the presence of beneficial microorganisms in the soil.\")\n",
        "         print(\"Result is Healthy Microbial Population: Supports nutrient cycling and plant health. Poor Microbial Population: May benefit from organic amendments\")\n",
        "  elif  'Soil Color' in requirement:\n",
        "         print(name , \"Observe the color of the soil.\")\n",
        "         print(\"Result is Dark Soil: Indicates organic matter and fertility. Light Soil: May require organic amendments.\")\n",
        "  elif  'Percolation Rate' in requirement:\n",
        "         print(name , \"Conduct a percolation test to measure how quickly water drains through the soil.\")\n",
        "         print(\"Result is Fast Percolation: Well-draining soil, suitable for many plants. Slow Percolation: Poor drainage, may need amendments or careful plant selection.\")\n",
        "  elif  'History of Land Use' in requirement:\n",
        "         print(name , \" Investigate the past use of the land, including previous crops and activities.\")\n",
        "         print(\"Result is Previously Cultivated: May have nutrient depletion, may require fertilization. Undisturbed: Natural soil conditions may be more balanced.\")\n",
        "  elif  'Soil Erosion Resistance' in requirement:\n",
        "         print(name , \"Assess the risk of soil erosion, considering factors like slope and vegetation cover.\")\n",
        "         print(\"Result is Erosion-Resistant: Suitable for stabilizing slopes and preventing erosion. Erosion-Prone: May require erosion control measures.\")\n",
        "  elif  'Soil pH Buffering Capacity' in requirement:\n",
        "         print(name , \"Professional soil testing.\")\n",
        "         print(\"Result is High Buffering Capacity: Soil pH is resistant to rapid changes. Low Buffering Capacity: pH may fluctuate more easily.\")\n",
        "  elif  'Soil Toxicity' in requirement:\n",
        "         print(name , \" Conduct soil tests to check for contaminants or pollutants.\")\n",
        "         print(\"Result is Non-toxic Soil: Safe for plant growth. Toxic Soil: May require remediation or careful plant selection.\")\n",
        "         break\n",
        "  else:\n",
        "    print(\"Thank you\")"
      ],
      "metadata": {
        "colab": {
          "base_uri": "https://localhost:8080/"
        },
        "id": "G_ESEB7Pjo-U",
        "outputId": "1b6d35d7-7254-4892-fd36-27a4eefd18a6"
      },
      "execution_count": null,
      "outputs": [
        {
          "output_type": "stream",
          "name": "stdout",
          "text": [
            "Hello! Welcome to the Types of soil and method required for crops Chatbot.\n",
            "Can you share your name please.teju\n",
            "Greetings teju !\n",
            "I'm here to assist you today. Feel Free to ask your doubts. I'm here to help you overcome your problems and to help you correct type of soil and method required for your crop\n",
            "What type of method do you need?Soil Toxicity\n",
            "teju  Conduct soil tests to check for contaminants or pollutants.\n",
            "Result is Non-toxic Soil: Safe for plant growth. Toxic Soil: May require remediation or careful plant selection.\n"
          ]
        }
      ]
    }
  ]
}